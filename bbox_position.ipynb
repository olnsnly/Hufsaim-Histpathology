{
 "cells": [
  {
   "cell_type": "code",
   "execution_count": 1,
   "id": "0650a0be",
   "metadata": {},
   "outputs": [],
   "source": [
    "import glob\n",
    "import json\n",
    "import openslide\n",
    "import numpy as np\n",
    "import matplotlib.pyplot as plt"
   ]
  },
  {
   "cell_type": "code",
   "execution_count": 2,
   "id": "81746dbc",
   "metadata": {},
   "outputs": [],
   "source": [
    "path0 = './Data/training'\n",
    "plist = np.sort(glob.glob(path0+'/*.mrxs'))\n",
    "json_data = {}"
   ]
  },
  {
   "cell_type": "code",
   "execution_count": 11,
   "id": "1412e583",
   "metadata": {},
   "outputs": [],
   "source": [
    "def bbox_position(img:np.array)->(int, int, int, int):\n",
    "    '''\n",
    "    The function that return bbox position by KITTI format.\n",
    "    (x1, y1) - (x2, y2)\n",
    "    '''\n",
    "    \n",
    "    for i in range(img.shape[0]):\n",
    "        if img[i,:].sum() != 0:\n",
    "            x1 = i\n",
    "            break\n",
    "            \n",
    "    for i in range(img.shape[1]):\n",
    "        if img[:,i].sum() != 0:\n",
    "            y1 = i\n",
    "            break\n",
    "            \n",
    "    for i in reversed(range(img.shape[0])):\n",
    "        if img[i,:].sum() != 0:\n",
    "            x2 = i\n",
    "            break\n",
    "        \n",
    "    for i in reversed(range(img.shape[1])):\n",
    "        if img[:,i].sum() != 0:\n",
    "            y2 = i\n",
    "            break\n",
    "    \n",
    "    \n",
    "    return x1, y1, x2, y2"
   ]
  },
  {
   "cell_type": "code",
   "execution_count": 12,
   "id": "2b06e1d6",
   "metadata": {},
   "outputs": [],
   "source": [
    "# Becuase of memory buffers, maximum N param is 1\n",
    "n = 1\n",
    "\n",
    "for pn in plist[2:]:\n",
    "    pn_pid = pn.split('.mrxs')[0].split('/')[-1]\n",
    "    pn_sl = openslide.OpenSlide(pn)\n",
    "    pn_shape = pn_sl.level_dimensions[n]\n",
    "    \n",
    "    img = pn_sl.read_region((0,0),n,pn_shape).convert('L')\n",
    "    img = np.array(img)\n",
    "    \n",
    "    x1, y1, x2, y2 = bbox_position(img)\n",
    "    \n",
    "    json_data[pn_pid] = {\n",
    "        'lv' : n,\n",
    "        'x1' : x1,\n",
    "        'y1' : y1,\n",
    "        'x2' : x2,\n",
    "        'y2' : y2,\n",
    "    }\n",
    "    "
   ]
  },
  {
   "cell_type": "code",
   "execution_count": 14,
   "id": "f50ce565",
   "metadata": {},
   "outputs": [],
   "source": [
    "with open('./LN_metastasis_bbox_position.json', 'w', encoding='utf-8') as file:\n",
    "    json.dump(json_data, file)"
   ]
  }
 ],
 "metadata": {
  "kernelspec": {
   "display_name": "Python 3",
   "language": "python",
   "name": "python3"
  },
  "language_info": {
   "codemirror_mode": {
    "name": "ipython",
    "version": 3
   },
   "file_extension": ".py",
   "mimetype": "text/x-python",
   "name": "python",
   "nbconvert_exporter": "python",
   "pygments_lexer": "ipython3",
   "version": "3.8.9 (default, Apr 13 2022, 08:48:06) \n[Clang 13.1.6 (clang-1316.0.21.2.5)]"
  },
  "vscode": {
   "interpreter": {
    "hash": "31f2aee4e71d21fbe5cf8b01ff0e069b9275f58929596ceb00d14d90e3e16cd6"
   }
  }
 },
 "nbformat": 4,
 "nbformat_minor": 5
}
